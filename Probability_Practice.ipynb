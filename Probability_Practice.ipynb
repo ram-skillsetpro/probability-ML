{
  "nbformat": 4,
  "nbformat_minor": 0,
  "metadata": {
    "colab": {
      "provenance": []
    },
    "kernelspec": {
      "name": "python3",
      "display_name": "Python 3"
    },
    "language_info": {
      "name": "python"
    }
  },
  "cells": [
    {
      "cell_type": "markdown",
      "source": [
        "# Probability Concepts Practice Problems\n",
        "\n",
        "This notebook covers various probability concepts including basic probability, conditional probability, Bayes' Theorem, and probability distributions. Each problem is followed by Python code that demonstrates how to solve the problem using real-world datasets and simulations.\n"
      ],
      "metadata": {
        "id": "TjMsKEA_bi14"
      }
    },
    {
      "cell_type": "markdown",
      "source": [
        "\n",
        "## Problem 1: Basic Probability with Dice Rolls\n",
        "\n",
        "**Problem Statement:**\n",
        "- Calculate the probability of rolling a 4 on a six-sided die.\n",
        "- Calculate the probability of rolling an even number on a six-sided die.\n"
      ],
      "metadata": {
        "id": "-CAnc9Nrb6nX"
      }
    },
    {
      "cell_type": "code",
      "source": [
        "import random\n",
        "\n",
        "# Simulate rolling a die 100,000 times\n",
        "die_rolls = [random.randint(1, 6) for _ in range(100000)]\n",
        "\n",
        "# Probability of rolling a 4\n",
        "probability_of_4 = die_rolls.count(4) / len(die_rolls)\n",
        "\n",
        "# Probability of rolling an even number\n",
        "even_numbers = [2, 4, 6]\n",
        "probability_of_even = sum([die_rolls.count(x) for x in even_numbers]) / len(die_rolls)\n",
        "\n",
        "print(f\"Probability of rolling a 4: {probability_of_4}\")\n",
        "print(f\"Probability of rolling an even number: {probability_of_even}\")"
      ],
      "metadata": {
        "id": "S1I_eZybb_ky"
      },
      "execution_count": null,
      "outputs": []
    },
    {
      "cell_type": "markdown",
      "source": [
        "#Problem 2: Conditional Probability with Cards#\n",
        "\n",
        "**Problem Statement:**\n",
        "- Given a standard deck of 52 cards,\n",
        "- Calculate the probability of drawing a Queen given that the card drawn is a face card (King, Queen, Jack).\n"
      ],
      "metadata": {
        "id": "evm9RRiqcOIv"
      }
    },
    {
      "cell_type": "code",
      "source": [
        "# Total number of face cards (King, Queen, Jack)\n",
        "face_cards = 3 * 4  # 3 face cards in each suit, 4 suits in total\n",
        "\n",
        "# Number of Queens\n",
        "queens = 4  # 4 Queens in total\n",
        "\n",
        "# Conditional probability\n",
        "conditional_probability = queens / face_cards\n",
        "\n",
        "print(f\"Probability of drawing a Queen given that the card is a face card: {conditional_probability}\")"
      ],
      "metadata": {
        "id": "3w4JFlZDcNgn"
      },
      "execution_count": null,
      "outputs": []
    },
    {
      "cell_type": "markdown",
      "source": [
        "# Problem 3: Bayes' Theorem for Medical Testing\n",
        "\n",
        "**Problem Statement:**\n",
        "- A disease affects 1% of the population. A test for the disease is 99% accurate (true positive rate). The false positive rate is 5%. Calculate the probability that a person who tests positive actually has the disease.\n"
      ],
      "metadata": {
        "id": "46_5LoPvc5EO"
      }
    },
    {
      "cell_type": "markdown",
      "source": [],
      "metadata": {
        "id": "8865M_tSc5cP"
      }
    },
    {
      "cell_type": "code",
      "source": [
        "# Given values\n",
        "P_disease = 0.01  # Prior probability of having the disease\n",
        "P_positive_given_disease = 0.99  # Probability of testing positive given that you have the disease\n",
        "P_positive_given_no_disease = 0.05  # Probability of testing positive given that you do not have the disease\n",
        "P_no_disease = 1 - P_disease  # Probability of not having the disease\n",
        "\n",
        "# Bayes' Theorem\n",
        "P_disease_given_positive = (P_positive_given_disease * P_disease) / (\n",
        "    (P_positive_given_disease * P_disease) + (P_positive_given_no_disease * P_no_disease)\n",
        ")\n",
        "\n",
        "print(f\"Probability of having the disease given a positive test result: {P_disease_given_positive}\")"
      ],
      "metadata": {
        "id": "P_2kZXUjc5Qx"
      },
      "execution_count": null,
      "outputs": []
    },
    {
      "cell_type": "markdown",
      "source": [
        "# Problem 4: Probability Distribution - Normal Distribution\n",
        "\n",
        "**Problem Statement:**\n",
        "- Generate a normal distribution dataset and calculate the probability of a value being within 1 standard deviation from the mean.\n"
      ],
      "metadata": {
        "id": "-JsFDi7Uc52i"
      }
    },
    {
      "cell_type": "code",
      "source": [
        "import numpy as np\n",
        "import scipy.stats as stats\n",
        "\n",
        "# Generate a normal distribution dataset\n",
        "mean = 0\n",
        "std_dev = 1\n",
        "data = np.random.normal(mean, std_dev, 1000)\n",
        "\n",
        "# Probability of being within 1 standard deviation from the mean\n",
        "within_one_std_dev = stats.norm.cdf(1, loc=mean, scale=std_dev) - stats.norm.cdf(-1, loc=mean, scale=std_dev)\n",
        "\n",
        "print(f\"Probability of being within 1 standard deviation from the mean: {within_one_std_dev}\")"
      ],
      "metadata": {
        "id": "LRRdDyKVc5pQ"
      },
      "execution_count": null,
      "outputs": []
    },
    {
      "cell_type": "markdown",
      "source": [
        "# Problem 5: Naive Bayes Classifier\n",
        "\n",
        "**Problem Statement:**\n",
        "- Use the \"SMS Spam Collection\" dataset to build a Naive Bayes classifier to classify SMS messages as spam or not spam.\n",
        "\n",
        "**Dataset Link:**\n",
        "- [SMS Spam Collection Dataset](https://archive.ics.uci.edu/ml/datasets/sms+spam+collection)"
      ],
      "metadata": {
        "id": "zIitOiGzdww4"
      }
    },
    {
      "cell_type": "code",
      "source": [
        "import pandas as pd\n",
        "from sklearn.model_selection import train_test_split\n",
        "from sklearn.feature_extraction.text import CountVectorizer\n",
        "from sklearn.naive_bayes import MultinomialNB\n",
        "from sklearn.metrics import accuracy_score\n",
        "\n",
        "# Load dataset\n",
        "url = \"https://archive.ics.uci.edu/ml/machine-learning-databases/00228/smsspamcollection.zip\"\n",
        "df = pd.read_csv(url, sep='\\\\t', names=[\"label\", \"message\"])\n",
        "\n",
        "# Preprocess data\n",
        "df['label'] = df['label'].map({'ham': 0, 'spam': 1})\n",
        "X_train, X_test, y_train, y_test = train_test_split(df['message'], df['label'], test_size=0.3, random_state=42)\n",
        "\n",
        "# Vectorize text data\n",
        "vectorizer = CountVectorizer()\n",
        "X_train_vec = vectorizer.fit_transform(X_train)\n",
        "X_test_vec = vectorizer.transform(X_test)\n",
        "\n",
        "# Train Naive Bayes classifier\n",
        "model = MultinomialNB()\n",
        "model.fit(X_train_vec, y_train)\n",
        "\n",
        "# Make predictions\n",
        "y_pred = model.predict(X_test_vec)\n",
        "\n",
        "# Evaluate model\n",
        "accuracy = accuracy_score(y_test, y_pred)\n",
        "print(f\"Accuracy of Naive Bayes classifier: {accuracy}\""
      ],
      "metadata": {
        "id": "BVP1JKWNdxZj"
      },
      "execution_count": null,
      "outputs": []
    },
    {
      "cell_type": "markdown",
      "source": [
        "\n",
        "\n",
        "# Problem 6: Conditional Probability with Real-World Dataset\n",
        "\n",
        "**Problem Statement:**\n",
        "- Use the Titanic dataset to calculate the conditional probability of survival given that the passenger was a female.\n",
        "\n",
        "**Dataset Link:**\n",
        "- [Titanic Dataset](https://www.kaggle.com/c/titanic/data)\n",
        "\n",
        "\n"
      ],
      "metadata": {
        "id": "GwvXj_6sdx45"
      }
    },
    {
      "cell_type": "code",
      "source": [
        "# Load dataset\n",
        "url = \"https://raw.githubusercontent.com/datasciencedojo/datasets/master/titanic.csv\"\n",
        "df = pd.read_csv(url)\n",
        "\n",
        "# Conditional probability of survival given that the passenger is female\n",
        "female_passengers = df[df['Sex'] == 'female']\n",
        "P_survival_given_female = female_passengers['Survived'].mean()\n"
      ],
      "metadata": {
        "id": "s-LMgUildyMQ"
      },
      "execution_count": null,
      "outputs": []
    },
    {
      "cell_type": "markdown",
      "source": [
        "# Problem 7: Working with Poisson Distribution\n",
        "\n",
        "**Problem Statement:**\n",
        "- Assume that a call center receives an average of 4 calls per minute. Calculate the probability that exactly 5 calls will be received in a given minute."
      ],
      "metadata": {
        "id": "IHZDRKLAeZsl"
      }
    },
    {
      "cell_type": "code",
      "source": [
        "import scipy.stats as stats\n",
        "\n",
        "# Given values\n",
        "average_calls_per_minute = 4\n",
        "k = 5  # Number of calls\n",
        "\n",
        "# Poisson probability\n",
        "P_k_calls = stats.poisson.pmf(k, average_calls_per_minute)\n",
        "\n",
        "print(f\"Probability of receiving exactly 5 calls in a minute: {P_k_calls}\")"
      ],
      "metadata": {
        "id": "Z9NfUXqSeZ30"
      },
      "execution_count": null,
      "outputs": []
    },
    {
      "cell_type": "markdown",
      "source": [
        "## Happy Practicing!\n",
        "\n",
        "Congratulations on making it this far! Probability is a fundamental concept in data science and machine learning, and mastering it will open up many doors for you in these fields.\n",
        "\n",
        "Take your time with these problems, experiment with the code, and don't hesitate to tweak things to see how the results change. Remember, the best way to learn is by doing—so dive in and explore these concepts fully.\n",
        "\n",
        "Happy practicing, and may your learning journey be both productive and enjoyable!\n"
      ],
      "metadata": {
        "id": "9CA7CuLkfPNf"
      }
    }
  ]
}